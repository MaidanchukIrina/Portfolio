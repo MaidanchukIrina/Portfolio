{
 "cells": [
  {
   "cell_type": "code",
   "execution_count": 1,
   "id": "1e6efa8e",
   "metadata": {},
   "outputs": [],
   "source": [
    "import pandas as pd\n",
    "data=pd.read_csv(r'C:\\Users\\User\\Downloads\\ab_test_data.csv')\n"
   ]
  },
  {
   "cell_type": "code",
   "execution_count": 3,
   "id": "de731553",
   "metadata": {},
   "outputs": [
    {
     "data": {
      "text/html": [
       "<div>\n",
       "<style scoped>\n",
       "    .dataframe tbody tr th:only-of-type {\n",
       "        vertical-align: middle;\n",
       "    }\n",
       "\n",
       "    .dataframe tbody tr th {\n",
       "        vertical-align: top;\n",
       "    }\n",
       "\n",
       "    .dataframe thead th {\n",
       "        text-align: right;\n",
       "    }\n",
       "</style>\n",
       "<table border=\"1\" class=\"dataframe\">\n",
       "  <thead>\n",
       "    <tr style=\"text-align: right;\">\n",
       "      <th></th>\n",
       "      <th>user_id</th>\n",
       "      <th>timestamp</th>\n",
       "      <th>test_group</th>\n",
       "      <th>conversion</th>\n",
       "    </tr>\n",
       "  </thead>\n",
       "  <tbody>\n",
       "    <tr>\n",
       "      <th>0</th>\n",
       "      <td>7f6833e6-1141-4f20-b4b2-f1e31019b1fd</td>\n",
       "      <td>2023-07-04 04:40:55.848109</td>\n",
       "      <td>a</td>\n",
       "      <td>0</td>\n",
       "    </tr>\n",
       "    <tr>\n",
       "      <th>1</th>\n",
       "      <td>e6a6e960-d3f3-4074-a516-ba1e609b211e</td>\n",
       "      <td>2023-07-06 00:26:45.486187</td>\n",
       "      <td>b</td>\n",
       "      <td>0</td>\n",
       "    </tr>\n",
       "    <tr>\n",
       "      <th>2</th>\n",
       "      <td>4d3fbfa5-6847-410a-bac2-477f01d5f400</td>\n",
       "      <td>2023-07-10 20:24:33.639464</td>\n",
       "      <td>b</td>\n",
       "      <td>0</td>\n",
       "    </tr>\n",
       "    <tr>\n",
       "      <th>3</th>\n",
       "      <td>361457d9-a044-48f7-981c-d67dc3861679</td>\n",
       "      <td>2023-07-20 07:04:49.957013</td>\n",
       "      <td>b</td>\n",
       "      <td>0</td>\n",
       "    </tr>\n",
       "    <tr>\n",
       "      <th>4</th>\n",
       "      <td>285cd63d-7d03-427f-a062-1fa2dd2e77d6</td>\n",
       "      <td>2023-07-19 23:27:50.116680</td>\n",
       "      <td>b</td>\n",
       "      <td>0</td>\n",
       "    </tr>\n",
       "    <tr>\n",
       "      <th>5</th>\n",
       "      <td>0c6aad3a-8068-473c-98ea-88abbcacbe67</td>\n",
       "      <td>2023-07-15 21:13:55.067827</td>\n",
       "      <td>b</td>\n",
       "      <td>0</td>\n",
       "    </tr>\n",
       "    <tr>\n",
       "      <th>6</th>\n",
       "      <td>397c76e4-a4db-4712-b3ce-febfb13cb634</td>\n",
       "      <td>2023-07-18 07:03:05.315509</td>\n",
       "      <td>b</td>\n",
       "      <td>0</td>\n",
       "    </tr>\n",
       "    <tr>\n",
       "      <th>7</th>\n",
       "      <td>9b1f084d-8a7f-4526-b859-4935ca99482c</td>\n",
       "      <td>2023-07-17 12:11:21.902593</td>\n",
       "      <td>a</td>\n",
       "      <td>0</td>\n",
       "    </tr>\n",
       "    <tr>\n",
       "      <th>8</th>\n",
       "      <td>37ade847-cd45-4ca7-99c6-13fe881e7f42</td>\n",
       "      <td>2023-07-24 23:35:24.243933</td>\n",
       "      <td>b</td>\n",
       "      <td>0</td>\n",
       "    </tr>\n",
       "    <tr>\n",
       "      <th>9</th>\n",
       "      <td>b856113a-75d4-4911-894c-4d4c75f37c34</td>\n",
       "      <td>2023-07-22 19:38:24.460128</td>\n",
       "      <td>a</td>\n",
       "      <td>0</td>\n",
       "    </tr>\n",
       "  </tbody>\n",
       "</table>\n",
       "</div>"
      ],
      "text/plain": [
       "                                user_id                   timestamp  \\\n",
       "0  7f6833e6-1141-4f20-b4b2-f1e31019b1fd  2023-07-04 04:40:55.848109   \n",
       "1  e6a6e960-d3f3-4074-a516-ba1e609b211e  2023-07-06 00:26:45.486187   \n",
       "2  4d3fbfa5-6847-410a-bac2-477f01d5f400  2023-07-10 20:24:33.639464   \n",
       "3  361457d9-a044-48f7-981c-d67dc3861679  2023-07-20 07:04:49.957013   \n",
       "4  285cd63d-7d03-427f-a062-1fa2dd2e77d6  2023-07-19 23:27:50.116680   \n",
       "5  0c6aad3a-8068-473c-98ea-88abbcacbe67  2023-07-15 21:13:55.067827   \n",
       "6  397c76e4-a4db-4712-b3ce-febfb13cb634  2023-07-18 07:03:05.315509   \n",
       "7  9b1f084d-8a7f-4526-b859-4935ca99482c  2023-07-17 12:11:21.902593   \n",
       "8  37ade847-cd45-4ca7-99c6-13fe881e7f42  2023-07-24 23:35:24.243933   \n",
       "9  b856113a-75d4-4911-894c-4d4c75f37c34  2023-07-22 19:38:24.460128   \n",
       "\n",
       "  test_group  conversion  \n",
       "0          a           0  \n",
       "1          b           0  \n",
       "2          b           0  \n",
       "3          b           0  \n",
       "4          b           0  \n",
       "5          b           0  \n",
       "6          b           0  \n",
       "7          a           0  \n",
       "8          b           0  \n",
       "9          a           0  "
      ]
     },
     "execution_count": 3,
     "metadata": {},
     "output_type": "execute_result"
    }
   ],
   "source": [
    "data.head(10)"
   ]
  },
  {
   "cell_type": "code",
   "execution_count": 4,
   "id": "a041eb5e",
   "metadata": {},
   "outputs": [
    {
     "data": {
      "text/plain": [
       "<bound method DataFrame.info of                                     user_id                   timestamp  \\\n",
       "0      7f6833e6-1141-4f20-b4b2-f1e31019b1fd  2023-07-04 04:40:55.848109   \n",
       "1      e6a6e960-d3f3-4074-a516-ba1e609b211e  2023-07-06 00:26:45.486187   \n",
       "2      4d3fbfa5-6847-410a-bac2-477f01d5f400  2023-07-10 20:24:33.639464   \n",
       "3      361457d9-a044-48f7-981c-d67dc3861679  2023-07-20 07:04:49.957013   \n",
       "4      285cd63d-7d03-427f-a062-1fa2dd2e77d6  2023-07-19 23:27:50.116680   \n",
       "...                                     ...                         ...   \n",
       "19993  6763ae9a-515c-473e-af00-0d9c4f6a5bc7  2023-07-06 03:27:37.041104   \n",
       "19994  ac5600f2-4d16-4503-b115-f1a96728b6d1  2023-07-03 04:20:48.572143   \n",
       "19995  5a8b2630-209b-4d83-b47f-0f3d9dd568a8  2023-07-23 16:23:49.211910   \n",
       "19996  b572d68b-26ac-432b-9f88-83e0fdee4ca1  2023-07-03 18:26:20.880675   \n",
       "19997  3d313adc-c8d6-43f2-8b4e-e267b194ff78  2023-07-19 13:15:37.562340   \n",
       "\n",
       "      test_group  conversion  \n",
       "0              a           0  \n",
       "1              b           0  \n",
       "2              b           0  \n",
       "3              b           0  \n",
       "4              b           0  \n",
       "...          ...         ...  \n",
       "19993          b           0  \n",
       "19994          a           0  \n",
       "19995          b           1  \n",
       "19996          b           0  \n",
       "19997          b           0  \n",
       "\n",
       "[19998 rows x 4 columns]>"
      ]
     },
     "execution_count": 4,
     "metadata": {},
     "output_type": "execute_result"
    }
   ],
   "source": [
    "data.info"
   ]
  },
  {
   "cell_type": "markdown",
   "id": "719a4796",
   "metadata": {},
   "source": [
    "Виведення кількості користувачів у групах"
   ]
  },
  {
   "cell_type": "code",
   "execution_count": 27,
   "id": "cfbe776b",
   "metadata": {},
   "outputs": [
    {
     "name": "stdout",
     "output_type": "stream",
     "text": [
      "Кількість користувачів в групі a: 10013\n",
      "Кількість користувачів в групі b: 9985\n"
     ]
    }
   ],
   "source": [
    "users_group_a = data[data['test_group'] == 'a']['user_id'].nunique()\n",
    "users_group_b = data[data['test_group'] == 'b']['user_id'].nunique()\n",
    "\n",
    "print(f'Кількість користувачів в групі a: {users_group_a}')\n",
    "print(f'Кількість користувачів в групі b: {users_group_b}')"
   ]
  },
  {
   "cell_type": "markdown",
   "id": "dee74cfe",
   "metadata": {},
   "source": [
    " Кількість конверсій у групах"
   ]
  },
  {
   "cell_type": "code",
   "execution_count": 26,
   "id": "393fff37",
   "metadata": {},
   "outputs": [
    {
     "name": "stdout",
     "output_type": "stream",
     "text": [
      "Кількість конверсій в групі a: 611\n",
      "Кількість конверсій в групі b: 889\n"
     ]
    }
   ],
   "source": [
    "conversions_group_a = data[data['test_group'] == 'a']['conversion'].sum()\n",
    "conversions_group_b = data[data['test_group'] == 'b']['conversion'].sum()\n",
    "\n",
    "print(f'Кількість конверсій в групі a: {conversions_group_a}')\n",
    "print(f'Кількість конверсій в групі b: {conversions_group_b}')"
   ]
  },
  {
   "cell_type": "markdown",
   "id": "3c0ca595",
   "metadata": {},
   "source": [
    "Рівень конверсії у групах"
   ]
  },
  {
   "cell_type": "code",
   "execution_count": 7,
   "id": "9edd188f",
   "metadata": {},
   "outputs": [
    {
     "name": "stdout",
     "output_type": "stream",
     "text": [
      "Рівень конверсії в групі a: 6.10%\n",
      "Рівень конверсії в групі b: 8.90%\n"
     ]
    }
   ],
   "source": [
    "conversion_rate_group_a = conversions_group_a / users_group_a\n",
    "conversion_rate_group_b = conversions_group_b / users_group_b\n",
    "\n",
    "print(f'Рівень конверсії в групі a: {conversion_rate_group_a:.2%}')\n",
    "print(f'Рівень конверсії в групі b: {conversion_rate_group_b:.2%}')"
   ]
  },
  {
   "cell_type": "markdown",
   "id": "96d2bda4",
   "metadata": {},
   "source": [
    "Знаходження дати початку та кінця тесту"
   ]
  },
  {
   "cell_type": "code",
   "execution_count": 17,
   "id": "e864dbf5",
   "metadata": {},
   "outputs": [
    {
     "name": "stdout",
     "output_type": "stream",
     "text": [
      "Дата початку тесту: 2023-07-03 01:42:34.033708\n",
      "Дата кінця тесту: 2023-07-25 01:41:19.152664\n"
     ]
    }
   ],
   "source": [
    "start_date = data['timestamp'].min()\n",
    "end_date = data['timestamp'].max()\n",
    "print(f'Дата початку тесту: {start_date}')\n",
    "print(f'Дата кінця тесту: {end_date}')"
   ]
  },
  {
   "cell_type": "markdown",
   "id": "79a80626",
   "metadata": {},
   "source": [
    "Знаходження кількості днів тестування"
   ]
  },
  {
   "cell_type": "code",
   "execution_count": 18,
   "id": "bd6c32b6",
   "metadata": {},
   "outputs": [
    {
     "name": "stdout",
     "output_type": "stream",
     "text": [
      "Тривалість тесту: 22 днів\n"
     ]
    }
   ],
   "source": [
    "test_duration_days = (end_date - start_date).days + 1\n",
    "print(f'Тривалість тесту: {test_duration_days} днів')"
   ]
  },
  {
   "cell_type": "markdown",
   "id": "28b19889",
   "metadata": {},
   "source": [
    "Використовуємо т-тест Стьюдента для незалежних вибірок"
   ]
  },
  {
   "cell_type": "code",
   "execution_count": 23,
   "id": "adce981a",
   "metadata": {},
   "outputs": [
    {
     "name": "stdout",
     "output_type": "stream",
     "text": [
      "Значення статистики t: -7.5299531387344185\n",
      "P-value: 5.2910576385178764e-14\n",
      "Відхиляємо нульову гіпотезу: існує статистично значуща різниця\n"
     ]
    }
   ],
   "source": [
    "from scipy.stats import ttest_ind\n",
    "t_stat, p_value_t = ttest_ind(data[data['test_group'] == 'a']['conversion'], \n",
    "                              data[data['test_group'] == 'b']['conversion'])\n",
    "print(f'Значення статистики t: {t_stat}')\n",
    "print(f'P-value: {p_value_t}')\n",
    "alpha = 0.05\n",
    "if p_value_t < alpha:\n",
    "    print('Відхиляємо нульову гіпотезу: існує статистично значуща різниця')\n",
    "else:\n",
    "    print('Не відхиляємо нульову гіпотезу: немає статистично значущої різниці')"
   ]
  },
  {
   "cell_type": "markdown",
   "id": "c84384ea",
   "metadata": {},
   "source": [
    "Використовуємо критерій хі-квадрат"
   ]
  },
  {
   "cell_type": "code",
   "execution_count": 24,
   "id": "b48b04e0",
   "metadata": {},
   "outputs": [
    {
     "name": "stdout",
     "output_type": "stream",
     "text": [
      "Значення статистики хі-квадрат: 56.14249485320227\n",
      "P-value: 6.740440730497395e-14\n",
      "Відхиляємо нульову гіпотезу: існує статистично значуща різниця\n"
     ]
    }
   ],
   "source": [
    "from scipy.stats import chi2_contingency\n",
    "contingency_table = pd.crosstab(data['test_group'], data['conversion'])\n",
    "chi2_stat, p_value_chi2, _, _ = chi2_contingency(contingency_table)\n",
    "print(f'Значення статистики хі-квадрат: {chi2_stat}')\n",
    "print(f'P-value: {p_value_chi2}')\n",
    "alpha = 0.05\n",
    "if p_value_chi2 < alpha:\n",
    "    print('Відхиляємо нульову гіпотезу: існує статистично значуща різниця')\n",
    "else:\n",
    "    print('Не відхиляємо нульову гіпотезу: немає статистично значущої різниці')"
   ]
  },
  {
   "cell_type": "code",
   "execution_count": 25,
   "id": "9ea68ecd",
   "metadata": {},
   "outputs": [
    {
     "data": {
      "text/plain": [
       "<bound method NDFrame.head of conversion     0    1\n",
       "test_group           \n",
       "a           9402  611\n",
       "b           9096  889>"
      ]
     },
     "execution_count": 25,
     "metadata": {},
     "output_type": "execute_result"
    }
   ],
   "source": [
    "contingency_table.head"
   ]
  },
  {
   "cell_type": "markdown",
   "id": "bf712bfe",
   "metadata": {},
   "source": [
    "Використовуємо точний тест Фішера"
   ]
  },
  {
   "cell_type": "code",
   "execution_count": 28,
   "id": "375e596c",
   "metadata": {},
   "outputs": [
    {
     "name": "stdout",
     "output_type": "stream",
     "text": [
      "Odds Ratio: 1.5039394305800864\n",
      "P-value: 4.8924849253464877e-14\n",
      "Відхиляємо нульову гіпотезу: існує статистично значуща різниця\n"
     ]
    }
   ],
   "source": [
    "from scipy.stats import fisher_exact\n",
    "contingency_table = pd.crosstab(data['test_group'], data['conversion'])\n",
    "odds_ratio, p_value_fisher = fisher_exact(contingency_table)\n",
    "print(f'Odds Ratio: {odds_ratio}')\n",
    "print(f'P-value: {p_value_fisher}')\n",
    "alpha = 0.05\n",
    "if p_value_fisher < alpha:\n",
    "    print('Відхиляємо нульову гіпотезу: існує статистично значуща різниця')\n",
    "else:\n",
    "    print('Не відхиляємо нульову гіпотезу: немає статистично значущої різниці')"
   ]
  },
  {
   "cell_type": "code",
   "execution_count": 29,
   "id": "7c7a0e12",
   "metadata": {},
   "outputs": [
    {
     "data": {
      "image/png": "[encoded data removed]",
      "text/plain": [
       "<Figure size 800x600 with 1 Axes>"
      ]
     },
     "metadata": {},
     "output_type": "display_data"
    }
   ],
   "source": [
    "import matplotlib.pyplot as plt\n",
    "import seaborn as sns\n",
    "import numpy as np\n",
    "\n",
    "# Групуємо дані за групами\n",
    "group_a_data = data[data['test_group'] == 'a']['conversion']\n",
    "group_b_data = data[data['test_group'] == 'b']['conversion']\n",
    "\n",
    "# Створюємо фігуру та вісь\n",
    "fig, ax = plt.subplots(figsize=(8, 6))\n",
    "\n",
    "# Побудова гістограм\n",
    "sns.histplot(group_a_data, label='Група a', kde=True, color='blue', ax=ax)\n",
    "sns.histplot(group_b_data, label='Група b', kde=True, color='orange', ax=ax)\n",
    "\n",
    "# Побудова 95% довірчих інтервалів для середніх\n",
    "ci_a = np.percentile(group_a_data, [2.5, 97.5])\n",
    "ci_b = np.percentile(group_b_data, [2.5, 97.5])\n",
    "\n",
    "# Побудова ліній для довірчих інтервалів\n",
    "ax.axvline(ci_a[0], linestyle='--', color='blue', label='95% CI Група A')\n",
    "ax.axvline(ci_a[1], linestyle='--', color='blue')\n",
    "\n",
    "ax.axvline(ci_b[0], linestyle='--', color='orange', label='95% CI Група B')\n",
    "ax.axvline(ci_b[1], linestyle='--', color='orange')\n",
    "\n",
    "# Додаємо легенду\n",
    "plt.legend()\n",
    "\n",
    "# Налаштовуємо відображення\n",
    "plt.title('Порівняння конверсій з 95% довірчими інтервалами')\n",
    "plt.xlabel('Конверсія')\n",
    "plt.ylabel('Частота')\n",
    "\n",
    "# Відображення графіка\n",
    "plt.show()"
   ]
  },
  {
   "cell_type": "code",
   "execution_count": 38,
   "id": "386eb57f",
   "metadata": {},
   "outputs": [
    {
     "name": "stderr",
     "output_type": "stream",
     "text": [
      "C:\\Users\\User\\AppData\\Local\\Temp\\ipykernel_46552\\3288540313.py:2: FutureWarning: \n",
      "\n",
      "The `ci` parameter is deprecated. Use `errorbar=('ci', 95)` for the same effect.\n",
      "\n",
      "  sns.barplot(x='test_group', y='conversion', data=data, ci=95)\n"
     ]
    },
    {
     "data": {
      "image/png": "[encoded data removed]",
      "text/plain": [
       "<Figure size 800x600 with 1 Axes>"
      ]
     },
     "metadata": {},
     "output_type": "display_data"
    }
   ],
   "source": [
    "plt.figure(figsize=(8, 6))\n",
    "sns.barplot(x='test_group', y='conversion', data=data, ci=95)\n",
    "plt.title('Порівняння конверсій з 95% довірчими інтервалами')\n",
    "plt.xlabel('Група')\n",
    "plt.ylabel('Конверсія')\n",
    "plt.show()"
   ]
  },
  {
   "cell_type": "markdown",
   "id": "f576462a",
   "metadata": {},
   "source": [
    "За результатами проведеного аналізу, робимо висновок про доцільність впровадження змін про написання примітки щодо знижки 50%. Це дало можливість підвищити рівень конверсії на 2.8 % при відносно незначних вкладених витратах. Статистичні тести показали, що даний результат не є випадковим, а має статистичну значущість. Ріст конверсії майже на 3% скоріше матиме позитивний вплив на цілі та ефективність продукту чи сервісу."
   ]
  },
  {
   "cell_type": "markdown",
   "id": "62a04195",
   "metadata": {},
   "source": [
    "Серед додаткових рекомендацій можна зазначити:\n",
    "\n",
    "1. ПРиділення уваги в пропозиції не лише до зміни ціни, а у її візуальному представленні. Влучні мітки можуть суттєво впливати на сприйняття користувачів\n",
    "\n",
    "2. Спроби запровадити досвід даного тестування до інших продуктів компанії\n",
    "\n",
    "3. РОзглянути доцільність сегментації цільової аудиторії, щоби вияснити яка з них більш чутлива до сформованої пропозиції, а яка ні\n",
    "\n",
    "4. Необхідно памятати про вплив часу - у довгостроковому періоді результат від даної пропозиції може знижуватися, адже в цілому від сконструйований на ефекті неочікуваності, адже акції у 50% не можуть тривати постійно"
   ]
  },
  {
   "cell_type": "markdown",
   "id": "cb3af36b",
   "metadata": {},
   "source": [
    "Можливі ризики запровадження\n",
    "\n",
    "1. ОДноразовість проведення тесту може бути залежна від конкретного контексту періоду проведення - свята, сезонність, тощо.\n",
    "\n",
    "2. Користувачі можуть змінити свої поведінкові патерни під впливом учісті в експерименті, виявивши зокрема відсутність реальної знижки\n",
    "\n",
    "3. МОжливість присутності інших факторів, невраховних у тесті та аналізі\n",
    "\n",
    "4. Щоби знизити вплив ризиків, варто уважно слідкувати за поведінкою користувачів, використовувати гіпотези обережно і без надмірних узагальнень\n"
   ]
  },
  {
   "cell_type": "markdown",
   "id": "313d0cee",
   "metadata": {},
   "source": [
    "\n",
    "Загальний висновок по тесту: рекомендовано запровадити зміни на період 1 міс"
   ]
  },
  {
   "cell_type": "code",
   "execution_count": null,
   "id": "59ad932c",
   "metadata": {},
   "outputs": [],
   "source": []
  }
 ],
 "metadata": {
  "kernelspec": {
   "display_name": "Python 3 (ipykernel)",
   "language": "python",
   "name": "python3"
  },
  "language_info": {
   "codemirror_mode": {
    "name": "ipython",
    "version": 3
   },
   "file_extension": ".py",
   "mimetype": "text/x-python",
   "name": "python",
   "nbconvert_exporter": "python",
   "pygments_lexer": "ipython3",
   "version": "3.11.5"
  }
 },
 "nbformat": 4,
 "nbformat_minor": 5
}
