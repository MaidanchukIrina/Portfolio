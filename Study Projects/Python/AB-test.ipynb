{
 "cells": [
  {
   "cell_type": "code",
   "execution_count": 1,
   "id": "1e6efa8e",
   "metadata": {},
   "outputs": [],
   "source": [
    "#import pandas as pd\n",
    "#data=pd.read_excel(r'C:\\Users\\User\\Downloads\\TEST TASK1_Net.xlsx')\n"
   ]
  },
  {
   "cell_type": "code",
   "execution_count": 2,
   "id": "de731553",
   "metadata": {},
   "outputs": [
    {
     "ename": "NameError",
     "evalue": "name 'data' is not defined",
     "output_type": "error",
     "traceback": [
      "\u001b[1;31m---------------------------------------------------------------------------\u001b[0m",
      "\u001b[1;31mNameError\u001b[0m                                 Traceback (most recent call last)",
      "Cell \u001b[1;32mIn[2], line 1\u001b[0m\n\u001b[1;32m----> 1\u001b[0m data\u001b[38;5;241m.\u001b[39mhead(\u001b[38;5;241m10\u001b[39m)\n",
      "\u001b[1;31mNameError\u001b[0m: name 'data' is not defined"
     ]
    }
   ],
   "source": [
    "data.head(10)"
   ]
  },
  {
   "cell_type": "code",
   "execution_count": null,
   "id": "a041eb5e",
   "metadata": {},
   "outputs": [
    {
     "data": {
      "text/plain": [
       "<bound method DataFrame.info of                                 user_id install_date country test_group  \\\n",
       "0      0000dd3fa4702a63d1b76aaffe1ab39b   2023-06-05      US  treatment   \n",
       "1      0001f27ab7e22228e54c8b2028b43f24   2023-06-07      AU  treatment   \n",
       "2      0006c5c547801308b36ea3cf669856ae   2023-06-07      AU  treatment   \n",
       "3      000d1a300263c5db91cbefa3852898a7   2023-06-07      AU    control   \n",
       "4      000e5e62e8746e467ed9f49ac5de3208   2023-06-06      US  treatment   \n",
       "...                                 ...          ...     ...        ...   \n",
       "15280  ffeef2252b1e6f9084eb9eefdb72461b   2023-06-04      AU    control   \n",
       "15281  ffef2243e364f6d53cf5bee90473a4d7   2023-06-06      CA  treatment   \n",
       "15282  fff046eac6fd5329dd1fe44ad5e162cb   2023-06-07      US  treatment   \n",
       "15283  fff32685daea5e16da8f1243f40467a0   2023-06-01      GB  treatment   \n",
       "15284  fffa5bebb66f89cc5b2456bd4a18388d   2023-06-05      CA    control   \n",
       "\n",
       "       trial  paid      subscription_name  revenue_1m  \n",
       "0          0     0                    NaN         0.0  \n",
       "1          0     0                    NaN         0.0  \n",
       "2          0     0                    NaN         0.0  \n",
       "3          0     0                    NaN         0.0  \n",
       "4          0     0                    NaN         0.0  \n",
       "...      ...   ...                    ...         ...  \n",
       "15280      1     0  monthly.5.99.3d.trial         0.0  \n",
       "15281      0     0                    NaN         0.0  \n",
       "15282      0     0                    NaN         0.0  \n",
       "15283      0     0                    NaN         0.0  \n",
       "15284      0     0                    NaN         0.0  \n",
       "\n",
       "[15285 rows x 8 columns]>"
      ]
     },
     "execution_count": 23,
     "metadata": {},
     "output_type": "execute_result"
    }
   ],
   "source": [
    "data.info"
   ]
  },
  {
   "cell_type": "markdown",
   "id": "719a4796",
   "metadata": {},
   "source": [
    "Виведення кількості користувачів у групах"
   ]
  },
  {
   "cell_type": "code",
   "execution_count": null,
   "id": "cfbe776b",
   "metadata": {},
   "outputs": [
    {
     "name": "stdout",
     "output_type": "stream",
     "text": [
      "Кількість користувачів в групі treatment: 7658\n",
      "Кількість користувачів в групі control: 7627\n"
     ]
    }
   ],
   "source": [
    "users_group_treatment = data[data['test_group'] == 'treatment']['user_id'].nunique()\n",
    "users_group_control = data[data['test_group'] == 'control']['user_id'].nunique()\n",
    "\n",
    "print(f'Кількість користувачів в групі treatment: {users_group_treatment}')\n",
    "print(f'Кількість користувачів в групі control: {users_group_control}')"
   ]
  },
  {
   "cell_type": "markdown",
   "id": "dee74cfe",
   "metadata": {},
   "source": [
    " Кількість paid у групах"
   ]
  },
  {
   "cell_type": "code",
   "execution_count": null,
   "id": "393fff37",
   "metadata": {},
   "outputs": [
    {
     "name": "stdout",
     "output_type": "stream",
     "text": [
      "Кількість конверсій в групі treatment: 149\n",
      "Кількість конверсій в групі control: 116\n"
     ]
    }
   ],
   "source": [
    "users_paid_group_treatment = data[data['test_group'] == 'treatment']['paid'].sum()\n",
    "users_paid_group_control = data[data['test_group'] == 'control']['paid'].sum()\n",
    "\n",
    "print(f'Кількість конверсій в групі treatment: {users_paid_group_treatment}')\n",
    "print(f'Кількість конверсій в групі control: {users_paid_group_control}')"
   ]
  },
  {
   "cell_type": "markdown",
   "id": "f8feaad4",
   "metadata": {},
   "source": [
    " Кількість trial у групах"
   ]
  },
  {
   "cell_type": "code",
   "execution_count": null,
   "id": "6c93b6f1",
   "metadata": {},
   "outputs": [
    {
     "name": "stdout",
     "output_type": "stream",
     "text": [
      "Кількість конверсій в групі treatment: 798\n",
      "Кількість конверсій в групі control: 925\n"
     ]
    }
   ],
   "source": [
    "users_trial_group_treatment = data[data['test_group'] == 'treatment']['trial'].sum()\n",
    "users_trial_group_control = data[data['test_group'] == 'control']['trial'].sum()\n",
    "\n",
    "print(f'Кількість конверсій в групі treatment: {users_trial_group_treatment}')\n",
    "print(f'Кількість конверсій в групі control: {users_trial_group_control}')"
   ]
  },
  {
   "cell_type": "markdown",
   "id": "3c0ca595",
   "metadata": {},
   "source": [
    "Рівень конверсії у групах"
   ]
  },
  {
   "cell_type": "code",
   "execution_count": null,
   "id": "9edd188f",
   "metadata": {},
   "outputs": [
    {
     "name": "stdout",
     "output_type": "stream",
     "text": [
      "Рівень конверсії в групі treatment: 18.67%\n",
      "Рівень конверсії в групі control: 12.54%\n"
     ]
    }
   ],
   "source": [
    "conversion_rate_group_treatment = users_paid_group_treatment / users_trial_group_treatment\n",
    "conversion_rate_group_control = users_paid_group_control / users_trial_group_control\n",
    "\n",
    "print(f'Рівень конверсії в групі treatment: {conversion_rate_group_treatment:.2%}')\n",
    "print(f'Рівень конверсії в групі control: {conversion_rate_group_control:.2%}')"
   ]
  },
  {
   "cell_type": "markdown",
   "id": "28b19889",
   "metadata": {},
   "source": [
    "Використовуємо т-тест Стьюдента для незалежних вибірок"
   ]
  },
  {
   "cell_type": "code",
   "execution_count": null,
   "id": "adce981a",
   "metadata": {},
   "outputs": [
    {
     "name": "stdout",
     "output_type": "stream",
     "text": [
      "Значення статистики t: 2.011811841988339\n",
      "P-value: 0.04425729220718672\n",
      "Відхиляємо нульову гіпотезу: існує статистично значуща різниця\n"
     ]
    }
   ],
   "source": [
    "from scipy.stats import ttest_ind\n",
    "t_stat, p_value_t = ttest_ind(data[data['test_group'] == 'treatment']['paid'], \n",
    "                              data[data['test_group'] == 'control']['paid'])\n",
    "print(f'Значення статистики t: {t_stat}')\n",
    "print(f'P-value: {p_value_t}')\n",
    "alpha = 0.05\n",
    "if p_value_t < alpha:\n",
    "    print('Відхиляємо нульову гіпотезу: існує статистично значуща різниця')\n",
    "else:\n",
    "    print('Не відхиляємо нульову гіпотезу: немає статистично значущої різниці')"
   ]
  },
  {
   "cell_type": "markdown",
   "id": "bf712bfe",
   "metadata": {},
   "source": [
    "Використовуємо точний тест Фішера"
   ]
  },
  {
   "cell_type": "code",
   "execution_count": null,
   "id": "363a6467",
   "metadata": {},
   "outputs": [
    {
     "name": "stdout",
     "output_type": "stream",
     "text": [
      "Odds Ratio: 1.2848248768144892\n",
      "P-value: 0.047291088272186324\n",
      "Відхиляємо нульову гіпотезу: існує статистично значуща різниця\n"
     ]
    }
   ],
   "source": [
    "from scipy.stats import fisher_exact\n",
    "contingency_table = pd.crosstab(data['test_group'], data['paid'])\n",
    "odds_ratio, p_value_fisher = fisher_exact(contingency_table)\n",
    "print(f'Odds Ratio: {odds_ratio}')\n",
    "print(f'P-value: {p_value_fisher}')\n",
    "alpha = 0.05\n",
    "if p_value_fisher < alpha:\n",
    "    print('Відхиляємо нульову гіпотезу: існує статистично значуща різниця')\n",
    "else:\n",
    "    print('Не відхиляємо нульову гіпотезу: немає статистично значущої різниці')"
   ]
  },
  {
   "cell_type": "markdown",
   "id": "ac18f2a4",
   "metadata": {},
   "source": [
    "Total_revenue"
   ]
  },
  {
   "cell_type": "code",
   "execution_count": null,
   "id": "8d4446f2",
   "metadata": {},
   "outputs": [
    {
     "name": "stdout",
     "output_type": "stream",
     "text": [
      "total_revenue_treatment: 792.35\n",
      "total_revenue_control: 694.84\n"
     ]
    }
   ],
   "source": [
    "total_revenue_treatment = data[data['test_group'] == 'treatment']['revenue_1m'].sum()\n",
    "total_revenue_control = data[data['test_group'] == 'control']['revenue_1m'].sum()\n",
    "print(f'total_revenue_treatment: {total_revenue_treatment}')\n",
    "print(f'total_revenue_control: {total_revenue_control}')"
   ]
  },
  {
   "cell_type": "markdown",
   "id": "d503a7a6",
   "metadata": {},
   "source": [
    "ARPPU"
   ]
  },
  {
   "cell_type": "code",
   "execution_count": null,
   "id": "6523b7c2",
   "metadata": {},
   "outputs": [
    {
     "name": "stdout",
     "output_type": "stream",
     "text": [
      "ARPPU_treatment: 5.3\n",
      "ARPPU_control: 6.0\n"
     ]
    }
   ],
   "source": [
    "arppu_treatment = total_revenue_treatment / users_paid_group_treatment\n",
    "arppu_control = total_revenue_control / users_paid_group_control\n",
    "\n",
    "print(f'ARPPU_treatment: {arppu_treatment:.2}')\n",
    "print(f'ARPPU_control: {arppu_control:.2}')"
   ]
  },
  {
   "cell_type": "code",
   "execution_count": null,
   "id": "59ad932c",
   "metadata": {},
   "outputs": [],
   "source": []
  }
 ],
 "metadata": {
  "kernelspec": {
   "display_name": "base",
   "language": "python",
   "name": "python3"
  },
  "language_info": {
   "codemirror_mode": {
    "name": "ipython",
    "version": 3
   },
   "file_extension": ".py",
   "mimetype": "text/x-python",
   "name": "python",
   "nbconvert_exporter": "python",
   "pygments_lexer": "ipython3",
   "version": "3.11.5"
  }
 },
 "nbformat": 4,
 "nbformat_minor": 5
}
