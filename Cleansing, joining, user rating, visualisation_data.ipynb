{
  "cells": [
    {
      "cell_type": "markdown",
      "metadata": {
        "id": "view-in-github",
        "colab_type": "text"
      },
      "source": [
        "<a href=\"https://colab.research.google.com/github/MaidanchukIrina/Portfolio/blob/main/Cleansing%2C%20joining%2C%20user%20rating%2C%20visualisation_data.ipynb\" target=\"_parent\"><img src=\"https://colab.research.google.com/assets/colab-badge.svg\" alt=\"Open In Colab\"/></a>"
      ]
    },
    {
      "cell_type": "code",
      "execution_count": null,
      "id": "c67e5ca5",
      "metadata": {
        "id": "c67e5ca5"
      },
      "outputs": [],
      "source": [
        "import pandas as pd\n",
        "import plotly.express as px\n",
        "import matplotlib.pyplot as plt\n",
        "applications=pd.read_csv(r'C:\\Users\\User\\OneDrive\\Desktop\\applications.csv')\n",
        "industries=pd.read_csv(r'C:\\Users\\User\\OneDrive\\Desktop\\industries.csv')"
      ]
    },
    {
      "cell_type": "markdown",
      "id": "b947882d",
      "metadata": {
        "id": "b947882d"
      },
      "source": [
        "Видалення дублікатів за стовпцем \"applicant_id\""
      ]
    },
    {
      "cell_type": "code",
      "execution_count": null,
      "id": "54eebf53",
      "metadata": {
        "id": "54eebf53"
      },
      "outputs": [],
      "source": [
        "applications.drop_duplicates(subset=['applicant_id'], inplace=True)"
      ]
    },
    {
      "cell_type": "markdown",
      "id": "3cda8f19",
      "metadata": {
        "id": "3cda8f19"
      },
      "source": [
        "В полі 'External Rating' заповни відсутні значення нулями"
      ]
    },
    {
      "cell_type": "code",
      "execution_count": null,
      "id": "8ef3cc61",
      "metadata": {
        "id": "8ef3cc61"
      },
      "outputs": [],
      "source": [
        "applications['External Rating'] = applications['External Rating'].fillna(0)"
      ]
    },
    {
      "cell_type": "markdown",
      "id": "9cbb6b93",
      "metadata": {
        "id": "9cbb6b93"
      },
      "source": [
        "В полі 'Education level' заповни відсутні значення текстом “Середня”"
      ]
    },
    {
      "cell_type": "code",
      "execution_count": null,
      "id": "b5026e70",
      "metadata": {
        "id": "b5026e70"
      },
      "outputs": [],
      "source": [
        "applications['Education level'] = applications['Education level'].fillna('Середня')"
      ]
    },
    {
      "cell_type": "markdown",
      "id": "04f3b97c",
      "metadata": {
        "id": "04f3b97c"
      },
      "source": [
        "Додай до цього DataFrame дані з файлу industries.csv, а саме, рейтинги індустрій."
      ]
    },
    {
      "cell_type": "code",
      "execution_count": null,
      "id": "eaa06888",
      "metadata": {
        "id": "eaa06888"
      },
      "outputs": [],
      "source": [
        "df_combined = pd.merge(applications, industries, on='Industry', how='left')"
      ]
    },
    {
      "cell_type": "code",
      "execution_count": null,
      "id": "de0c26ac",
      "metadata": {
        "id": "de0c26ac",
        "outputId": "1dd0b46f-70a9-4d3e-bbe4-1bd079a3930c"
      },
      "outputs": [
        {
          "data": {
            "text/html": [
              "<div>\n",
              "<style scoped>\n",
              "    .dataframe tbody tr th:only-of-type {\n",
              "        vertical-align: middle;\n",
              "    }\n",
              "\n",
              "    .dataframe tbody tr th {\n",
              "        vertical-align: top;\n",
              "    }\n",
              "\n",
              "    .dataframe thead th {\n",
              "        text-align: right;\n",
              "    }\n",
              "</style>\n",
              "<table border=\"1\" class=\"dataframe\">\n",
              "  <thead>\n",
              "    <tr style=\"text-align: right;\">\n",
              "      <th></th>\n",
              "      <th>Applied at</th>\n",
              "      <th>Amount</th>\n",
              "      <th>Age</th>\n",
              "      <th>Gender</th>\n",
              "      <th>Industry</th>\n",
              "      <th>Marital status</th>\n",
              "      <th>External Rating</th>\n",
              "      <th>Education level</th>\n",
              "      <th>Location</th>\n",
              "      <th>applicant_id</th>\n",
              "      <th>Score</th>\n",
              "    </tr>\n",
              "  </thead>\n",
              "  <tbody>\n",
              "    <tr>\n",
              "      <th>0</th>\n",
              "      <td>11.30.2022 10:26:37</td>\n",
              "      <td>12000.0</td>\n",
              "      <td>29</td>\n",
              "      <td>Чоловік</td>\n",
              "      <td>Blockchain</td>\n",
              "      <td>Other</td>\n",
              "      <td>8.0</td>\n",
              "      <td>Вища (бакалавр, спеціаліст, магістр)</td>\n",
              "      <td>Івано-Франківськ чи область</td>\n",
              "      <td>99e7b0dc6cc05dd334d8f38dc26ce9b3</td>\n",
              "      <td>0</td>\n",
              "    </tr>\n",
              "    <tr>\n",
              "      <th>1</th>\n",
              "      <td>11.30.2022 10:26:39</td>\n",
              "      <td>NaN</td>\n",
              "      <td>36</td>\n",
              "      <td>Чоловік</td>\n",
              "      <td>Public services / Government</td>\n",
              "      <td>Single</td>\n",
              "      <td>3.0</td>\n",
              "      <td>Вища (бакалавр, спеціаліст, магістр)</td>\n",
              "      <td>NaN</td>\n",
              "      <td>63dfcf8e6904186650d6814279fbe42f</td>\n",
              "      <td>20</td>\n",
              "    </tr>\n",
              "    <tr>\n",
              "      <th>2</th>\n",
              "      <td>11.30.2022 10:26:58</td>\n",
              "      <td>7500.0</td>\n",
              "      <td>34</td>\n",
              "      <td>Чоловік</td>\n",
              "      <td>Adtech / Advertising</td>\n",
              "      <td>Single</td>\n",
              "      <td>4.0</td>\n",
              "      <td>Вища (бакалавр, спеціаліст, магістр)</td>\n",
              "      <td>Київ чи область</td>\n",
              "      <td>10dbafaeb46c09e96b6987c03bbb3498</td>\n",
              "      <td>10</td>\n",
              "    </tr>\n",
              "    <tr>\n",
              "      <th>3</th>\n",
              "      <td>11.30.2022 10:27:31</td>\n",
              "      <td>1500.0</td>\n",
              "      <td>23</td>\n",
              "      <td>Жінка</td>\n",
              "      <td>Telecom</td>\n",
              "      <td>Single</td>\n",
              "      <td>0.0</td>\n",
              "      <td>Вища (бакалавр, спеціаліст, магістр)</td>\n",
              "      <td>Львів чи область</td>\n",
              "      <td>5847ac62cc9eac5e323c2517dcc91ad1</td>\n",
              "      <td>15</td>\n",
              "    </tr>\n",
              "    <tr>\n",
              "      <th>4</th>\n",
              "      <td>11.30.2022 10:27:34</td>\n",
              "      <td>8400.0</td>\n",
              "      <td>33</td>\n",
              "      <td>Жінка</td>\n",
              "      <td>Automotive</td>\n",
              "      <td>Single</td>\n",
              "      <td>6.0</td>\n",
              "      <td>Вища (бакалавр, спеціаліст, магістр)</td>\n",
              "      <td>Житомир чи область</td>\n",
              "      <td>5d21f3795b50de8e8f8f8d5f48b754f3</td>\n",
              "      <td>15</td>\n",
              "    </tr>\n",
              "    <tr>\n",
              "      <th>5</th>\n",
              "      <td>11.30.2022 10:27:38</td>\n",
              "      <td>16500.0</td>\n",
              "      <td>31</td>\n",
              "      <td>Чоловік</td>\n",
              "      <td>E-commerce</td>\n",
              "      <td>Single</td>\n",
              "      <td>8.0</td>\n",
              "      <td>Вища (бакалавр, спеціаліст, магістр)</td>\n",
              "      <td>Київ чи область</td>\n",
              "      <td>f720bf9c5c4c3e10a8568c1699847696</td>\n",
              "      <td>15</td>\n",
              "    </tr>\n",
              "    <tr>\n",
              "      <th>6</th>\n",
              "      <td>11.30.2022 10:27:42</td>\n",
              "      <td>4200.0</td>\n",
              "      <td>30</td>\n",
              "      <td>Чоловік</td>\n",
              "      <td>Media</td>\n",
              "      <td>Married</td>\n",
              "      <td>1.0</td>\n",
              "      <td>Вища (бакалавр, спеціаліст, магістр)</td>\n",
              "      <td>Київ чи область</td>\n",
              "      <td>0aaf59fb3ef90f50ccd4800312e5c271</td>\n",
              "      <td>5</td>\n",
              "    </tr>\n",
              "    <tr>\n",
              "      <th>7</th>\n",
              "      <td>11.30.2022 10:27:44</td>\n",
              "      <td>3600.0</td>\n",
              "      <td>24</td>\n",
              "      <td>Чоловік</td>\n",
              "      <td>E-commerce</td>\n",
              "      <td>Married</td>\n",
              "      <td>1.0</td>\n",
              "      <td>Вища (бакалавр, спеціаліст, магістр)</td>\n",
              "      <td>Львів чи область</td>\n",
              "      <td>aa54d6e672e4233febadbafdfd048327</td>\n",
              "      <td>15</td>\n",
              "    </tr>\n",
              "    <tr>\n",
              "      <th>8</th>\n",
              "      <td>11.30.2022 10:28:00</td>\n",
              "      <td>1950.0</td>\n",
              "      <td>27</td>\n",
              "      <td>Чоловік</td>\n",
              "      <td>Automotive</td>\n",
              "      <td>Married</td>\n",
              "      <td>1.0</td>\n",
              "      <td>Вища (бакалавр, спеціаліст, магістр)</td>\n",
              "      <td>Львів чи область</td>\n",
              "      <td>2eed2883cd1673b21b2ce89d1115c245</td>\n",
              "      <td>15</td>\n",
              "    </tr>\n",
              "    <tr>\n",
              "      <th>9</th>\n",
              "      <td>11.30.2022 10:28:00</td>\n",
              "      <td>NaN</td>\n",
              "      <td>17</td>\n",
              "      <td>Чоловік</td>\n",
              "      <td>Інша</td>\n",
              "      <td>Married</td>\n",
              "      <td>2.0</td>\n",
              "      <td>Ще студент вишу</td>\n",
              "      <td>NaN</td>\n",
              "      <td>9c7a640dccb37d9f2164bac1deb0edfa</td>\n",
              "      <td>10</td>\n",
              "    </tr>\n",
              "  </tbody>\n",
              "</table>\n",
              "</div>"
            ],
            "text/plain": [
              "            Applied at   Amount  Age   Gender                      Industry  \\\n",
              "0  11.30.2022 10:26:37  12000.0   29  Чоловік                    Blockchain   \n",
              "1  11.30.2022 10:26:39      NaN   36  Чоловік  Public services / Government   \n",
              "2  11.30.2022 10:26:58   7500.0   34  Чоловік          Adtech / Advertising   \n",
              "3  11.30.2022 10:27:31   1500.0   23    Жінка                       Telecom   \n",
              "4  11.30.2022 10:27:34   8400.0   33    Жінка                    Automotive   \n",
              "5  11.30.2022 10:27:38  16500.0   31  Чоловік                    E-commerce   \n",
              "6  11.30.2022 10:27:42   4200.0   30  Чоловік                         Media   \n",
              "7  11.30.2022 10:27:44   3600.0   24  Чоловік                    E-commerce   \n",
              "8  11.30.2022 10:28:00   1950.0   27  Чоловік                    Automotive   \n",
              "9  11.30.2022 10:28:00      NaN   17  Чоловік                          Інша   \n",
              "\n",
              "  Marital status  External Rating                       Education level  \\\n",
              "0          Other              8.0  Вища (бакалавр, спеціаліст, магістр)   \n",
              "1         Single              3.0  Вища (бакалавр, спеціаліст, магістр)   \n",
              "2         Single              4.0  Вища (бакалавр, спеціаліст, магістр)   \n",
              "3         Single              0.0  Вища (бакалавр, спеціаліст, магістр)   \n",
              "4         Single              6.0  Вища (бакалавр, спеціаліст, магістр)   \n",
              "5         Single              8.0  Вища (бакалавр, спеціаліст, магістр)   \n",
              "6        Married              1.0  Вища (бакалавр, спеціаліст, магістр)   \n",
              "7        Married              1.0  Вища (бакалавр, спеціаліст, магістр)   \n",
              "8        Married              1.0  Вища (бакалавр, спеціаліст, магістр)   \n",
              "9        Married              2.0                       Ще студент вишу   \n",
              "\n",
              "                      Location                      applicant_id  Score  \n",
              "0  Івано-Франківськ чи область  99e7b0dc6cc05dd334d8f38dc26ce9b3      0  \n",
              "1                          NaN  63dfcf8e6904186650d6814279fbe42f     20  \n",
              "2              Київ чи область  10dbafaeb46c09e96b6987c03bbb3498     10  \n",
              "3             Львів чи область  5847ac62cc9eac5e323c2517dcc91ad1     15  \n",
              "4           Житомир чи область  5d21f3795b50de8e8f8f8d5f48b754f3     15  \n",
              "5              Київ чи область  f720bf9c5c4c3e10a8568c1699847696     15  \n",
              "6              Київ чи область  0aaf59fb3ef90f50ccd4800312e5c271      5  \n",
              "7             Львів чи область  aa54d6e672e4233febadbafdfd048327     15  \n",
              "8             Львів чи область  2eed2883cd1673b21b2ce89d1115c245     15  \n",
              "9                          NaN  9c7a640dccb37d9f2164bac1deb0edfa     10  "
            ]
          },
          "execution_count": 20,
          "metadata": {},
          "output_type": "execute_result"
        }
      ],
      "source": [
        "df_combined.head(10)"
      ]
    },
    {
      "cell_type": "markdown",
      "id": "9ab2e0b7",
      "metadata": {
        "id": "9ab2e0b7"
      },
      "source": [
        "Розрахуй рейтинг заявки за наступними умовами:\n",
        "\n",
        "Рейтинг має бути числом від 0 до 100 Рейтинг - сума оцінок заявки по 6 критеріям. Рейтинг дорівнює нулю, якщо відсутнє значення 'Amount' або якщо 'External Rating' дорівнює нулю. З чого складається рейтинг:\n",
        "\n",
        "Якщо вік заявщика між 35 та 55, до рейтингу додається 20 балів Якщо заявка була подана не у вихідні, до рейтингу додається 20 балів Якщо заявщик одружений, до рейтингу додається 20 балів Якщо заявщик знаходиться в Києві чи області, до рейтингу додається 10 балів Значення 'Score' з таблиці industries.csv також додається до заявки (і складає від 0 до 20 балів) Якщо 'External Rating' більше чи дорівнює 7, до рейтингу додається 20 балів Якщо 'External Rating' менше чи дорівнює 2, з рейтингу віднімається 20 балів\n",
        "\n"
      ]
    },
    {
      "cell_type": "code",
      "execution_count": null,
      "id": "316c3458",
      "metadata": {
        "id": "316c3458"
      },
      "outputs": [],
      "source": [
        "df_combined['Applied at'] = pd.to_datetime(df_combined['Applied at'], format='mixed')"
      ]
    },
    {
      "cell_type": "code",
      "execution_count": null,
      "id": "b87b76c1",
      "metadata": {
        "id": "b87b76c1"
      },
      "outputs": [],
      "source": [
        "df_combined['Day of Week'] = df_combined['Applied at'].dt.dayofweek"
      ]
    },
    {
      "cell_type": "code",
      "execution_count": null,
      "id": "e30e6b37",
      "metadata": {
        "id": "e30e6b37"
      },
      "outputs": [],
      "source": [
        "# Розрахунок тижня подачі заявки\n",
        "df_combined['Week of Application'] = df_combined['Applied at'].dt.isocalendar().week"
      ]
    },
    {
      "cell_type": "code",
      "execution_count": null,
      "id": "76a1c7ce",
      "metadata": {
        "id": "76a1c7ce",
        "outputId": "1b12a9ab-4140-4be8-89b5-74b40793d768"
      },
      "outputs": [
        {
          "data": {
            "text/html": [
              "<div>\n",
              "<style scoped>\n",
              "    .dataframe tbody tr th:only-of-type {\n",
              "        vertical-align: middle;\n",
              "    }\n",
              "\n",
              "    .dataframe tbody tr th {\n",
              "        vertical-align: top;\n",
              "    }\n",
              "\n",
              "    .dataframe thead th {\n",
              "        text-align: right;\n",
              "    }\n",
              "</style>\n",
              "<table border=\"1\" class=\"dataframe\">\n",
              "  <thead>\n",
              "    <tr style=\"text-align: right;\">\n",
              "      <th></th>\n",
              "      <th>Applied at</th>\n",
              "      <th>Amount</th>\n",
              "      <th>Age</th>\n",
              "      <th>Gender</th>\n",
              "      <th>Industry</th>\n",
              "      <th>Marital status</th>\n",
              "      <th>External Rating</th>\n",
              "      <th>Education level</th>\n",
              "      <th>Location</th>\n",
              "      <th>applicant_id</th>\n",
              "      <th>Score</th>\n",
              "      <th>Day of Week</th>\n",
              "      <th>Rating</th>\n",
              "      <th>Week of Application</th>\n",
              "    </tr>\n",
              "  </thead>\n",
              "  <tbody>\n",
              "    <tr>\n",
              "      <th>0</th>\n",
              "      <td>2022-11-30 10:26:37</td>\n",
              "      <td>12000.0</td>\n",
              "      <td>29</td>\n",
              "      <td>Чоловік</td>\n",
              "      <td>Blockchain</td>\n",
              "      <td>Other</td>\n",
              "      <td>8.0</td>\n",
              "      <td>Вища (бакалавр, спеціаліст, магістр)</td>\n",
              "      <td>Івано-Франківськ чи область</td>\n",
              "      <td>99e7b0dc6cc05dd334d8f38dc26ce9b3</td>\n",
              "      <td>0</td>\n",
              "      <td>2.0</td>\n",
              "      <td>40</td>\n",
              "      <td>48</td>\n",
              "    </tr>\n",
              "    <tr>\n",
              "      <th>1</th>\n",
              "      <td>2022-11-30 10:26:39</td>\n",
              "      <td>NaN</td>\n",
              "      <td>36</td>\n",
              "      <td>Чоловік</td>\n",
              "      <td>Public services / Government</td>\n",
              "      <td>Single</td>\n",
              "      <td>3.0</td>\n",
              "      <td>Вища (бакалавр, спеціаліст, магістр)</td>\n",
              "      <td>NaN</td>\n",
              "      <td>63dfcf8e6904186650d6814279fbe42f</td>\n",
              "      <td>20</td>\n",
              "      <td>2.0</td>\n",
              "      <td>60</td>\n",
              "      <td>48</td>\n",
              "    </tr>\n",
              "    <tr>\n",
              "      <th>2</th>\n",
              "      <td>2022-11-30 10:26:58</td>\n",
              "      <td>7500.0</td>\n",
              "      <td>34</td>\n",
              "      <td>Чоловік</td>\n",
              "      <td>Adtech / Advertising</td>\n",
              "      <td>Single</td>\n",
              "      <td>4.0</td>\n",
              "      <td>Вища (бакалавр, спеціаліст, магістр)</td>\n",
              "      <td>Київ чи область</td>\n",
              "      <td>10dbafaeb46c09e96b6987c03bbb3498</td>\n",
              "      <td>10</td>\n",
              "      <td>2.0</td>\n",
              "      <td>30</td>\n",
              "      <td>48</td>\n",
              "    </tr>\n",
              "  </tbody>\n",
              "</table>\n",
              "</div>"
            ],
            "text/plain": [
              "           Applied at   Amount  Age   Gender                      Industry  \\\n",
              "0 2022-11-30 10:26:37  12000.0   29  Чоловік                    Blockchain   \n",
              "1 2022-11-30 10:26:39      NaN   36  Чоловік  Public services / Government   \n",
              "2 2022-11-30 10:26:58   7500.0   34  Чоловік          Adtech / Advertising   \n",
              "\n",
              "  Marital status  External Rating                       Education level  \\\n",
              "0          Other              8.0  Вища (бакалавр, спеціаліст, магістр)   \n",
              "1         Single              3.0  Вища (бакалавр, спеціаліст, магістр)   \n",
              "2         Single              4.0  Вища (бакалавр, спеціаліст, магістр)   \n",
              "\n",
              "                      Location                      applicant_id  Score  \\\n",
              "0  Івано-Франківськ чи область  99e7b0dc6cc05dd334d8f38dc26ce9b3      0   \n",
              "1                          NaN  63dfcf8e6904186650d6814279fbe42f     20   \n",
              "2              Київ чи область  10dbafaeb46c09e96b6987c03bbb3498     10   \n",
              "\n",
              "   Day of Week  Rating  Week of Application  \n",
              "0          2.0      40                   48  \n",
              "1          2.0      60                   48  \n",
              "2          2.0      30                   48  "
            ]
          },
          "execution_count": 55,
          "metadata": {},
          "output_type": "execute_result"
        }
      ],
      "source": [
        "df_combined.head(3)"
      ]
    },
    {
      "cell_type": "code",
      "execution_count": null,
      "id": "1c4fa5e4",
      "metadata": {
        "id": "1c4fa5e4"
      },
      "outputs": [],
      "source": [
        "df_combined['Rating'] = (\n",
        "    ((df_combined['Age'].between(35, 55)) * 20) +\n",
        "    ((df_combined['Day of Week'] < 5) * 20) +\n",
        "    ((df_combined['Marital status']=='Married') * 20) +\n",
        "    ((df_combined['Location'].isin(['Київ', 'Київ, область'])) * 10) +\n",
        "    df_combined['Score'] +\n",
        "    ((df_combined['External Rating'] >= 7) * 20) -\n",
        "    ((df_combined['External Rating'] <= 2) * 20)\n",
        ")"
      ]
    },
    {
      "cell_type": "code",
      "execution_count": null,
      "id": "45f43fdc",
      "metadata": {
        "id": "45f43fdc"
      },
      "outputs": [],
      "source": [
        "df_combined_accepted = df_combined[df_combined['Rating'] > 0]"
      ]
    },
    {
      "cell_type": "code",
      "execution_count": null,
      "id": "c0217d15",
      "metadata": {
        "id": "c0217d15"
      },
      "outputs": [],
      "source": [
        "# Групування за тижнем та розрахунок середнього рейтингу\n",
        "df_weekly_avg_rating = df_combined_accepted.groupby('Week of Application')['Rating'].mean().reset_index()"
      ]
    },
    {
      "cell_type": "code",
      "execution_count": null,
      "id": "a694d14d",
      "metadata": {
        "id": "a694d14d",
        "outputId": "3fd546f9-087b-470e-97a2-43fdb84134b0"
      },
      "outputs": [
        {
          "name": "stdout",
          "output_type": "stream",
          "text": [
            "   Week of Application     Rating\n",
            "0                   48  49.474967\n",
            "1                   50  44.183835\n",
            "2                   51  43.422699\n",
            "3                   52  46.919918\n"
          ]
        }
      ],
      "source": [
        "print(df_weekly_avg_rating)"
      ]
    },
    {
      "cell_type": "code",
      "execution_count": null,
      "id": "bdd56ad3",
      "metadata": {
        "scrolled": true,
        "id": "bdd56ad3",
        "outputId": "318ae371-247a-48a7-e255-90ee94bc58a2"
      },
      "outputs": [
        {
          "data": {
            "image/png": "[encoded data removed]",
            "text/plain": [
              "<Figure size 640x480 with 1 Axes>"
            ]
          },
          "metadata": {},
          "output_type": "display_data"
        }
      ],
      "source": [
        "plt.plot(df_weekly_avg_rating['Week of Application'], df_weekly_avg_rating['Rating'])\n",
        "plt.xlabel('Тиждень подачі заявки')\n",
        "plt.ylabel('Середній рейтинг')\n",
        "plt.title('Середній рейтинг за тиждень')\n",
        "plt.show()"
      ]
    },
    {
      "cell_type": "code",
      "execution_count": null,
      "id": "6177fe3c",
      "metadata": {
        "id": "6177fe3c"
      },
      "outputs": [],
      "source": []
    }
  ],
  "metadata": {
    "kernelspec": {
      "display_name": "Python 3 (ipykernel)",
      "language": "python",
      "name": "python3"
    },
    "language_info": {
      "codemirror_mode": {
        "name": "ipython",
        "version": 3
      },
      "file_extension": ".py",
      "mimetype": "text/x-python",
      "name": "python",
      "nbconvert_exporter": "python",
      "pygments_lexer": "ipython3",
      "version": "3.11.5"
    },
    "colab": {
      "provenance": [],
      "include_colab_link": true
    }
  },
  "nbformat": 4,
  "nbformat_minor": 5
}